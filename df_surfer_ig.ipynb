{
 "cells": [
  {
   "cell_type": "code",
   "execution_count": 1,
   "metadata": {},
   "outputs": [],
   "source": [
    "import pandas as pd\n",
    "from selenium import webdriver\n",
    "from selenium.webdriver.chrome.options import Options\n",
    "from webdriver_manager.chrome import ChromeDriverManager\n",
    "from selenium.webdriver.common.by import By\n",
    "from selenium.webdriver.common.keys import Keys\n",
    "from selenium.common.exceptions import WebDriverException\n",
    "import time"
   ]
  },
  {
   "cell_type": "code",
   "execution_count": 2,
   "metadata": {},
   "outputs": [
    {
     "name": "stderr",
     "output_type": "stream",
     "text": [
      "C:\\Users\\Lorenzo\\AppData\\Local\\Temp\\ipykernel_6740\\4076755805.py:6: DeprecationWarning: headless property is deprecated, instead use add_argument('--headless') or add_argument('--headless=new')\n",
      "  opciones.headless=False    # si True, no aperece la ventana (headless=no visible)\n"
     ]
    }
   ],
   "source": [
    "#driver configuration\n",
    "opciones=Options()\n",
    "\n",
    "opciones.add_experimental_option('excludeSwitches', ['enable-automation'])\n",
    "opciones.add_experimental_option('useAutomationExtension', False)\n",
    "opciones.headless=False    # si True, no aperece la ventana (headless=no visible)\n",
    "opciones.add_argument('--start-maximized')         # comienza maximizado\n",
    "#opciones.add_argument('user-data-dir=selenium')    # mantiene las cookies\n",
    "#opciones.add_extension('driver_folder/adblock.crx')       # adblocker\n",
    "opciones.add_argument('--incognito')"
   ]
  },
  {
   "cell_type": "code",
   "execution_count": 3,
   "metadata": {},
   "outputs": [
    {
     "name": "stderr",
     "output_type": "stream",
     "text": [
      "C:\\Users\\Lorenzo\\AppData\\Local\\Temp\\ipykernel_6740\\3969847301.py:2: DeprecationWarning: executable_path has been deprecated, please pass in a Service object\n",
      "  driver = webdriver.Chrome(PATH) #Para poder abrir una ventana en Crhome\n"
     ]
    }
   ],
   "source": [
    "PATH = ChromeDriverManager().install() #instalar driver en crhome\n",
    "driver = webdriver.Chrome(PATH) #Para poder abrir una ventana en Crhome"
   ]
  },
  {
   "cell_type": "code",
   "execution_count": 4,
   "metadata": {},
   "outputs": [],
   "source": [
    "url_most_followed_pro_surfers = 'https://blog.feedspot.com/surfing_instagram_influencers/' #tercera fuente \n",
    "driver.get(url_most_followed_pro_surfers)\n",
    "time.sleep(1)"
   ]
  },
  {
   "attachments": {},
   "cell_type": "markdown",
   "metadata": {},
   "source": [
    "### Bucle para sacar nombres de los influencers"
   ]
  },
  {
   "cell_type": "code",
   "execution_count": 5,
   "metadata": {},
   "outputs": [
    {
     "data": {
      "text/plain": [
       "'1. Kelly Slater'"
      ]
     },
     "execution_count": 5,
     "metadata": {},
     "output_type": "execute_result"
    }
   ],
   "source": [
    "tabla = driver.find_elements(By.CSS_SELECTOR, \"h3\")\n",
    "tabla[0].text"
   ]
  },
  {
   "cell_type": "code",
   "execution_count": 6,
   "metadata": {},
   "outputs": [
    {
     "data": {
      "text/plain": [
       "[' Kelly Slater',\n",
       " ' Bethany Hamilton',\n",
       " ' Alana Blanchard',\n",
       " ' John john Florence',\n",
       " \" Jamie O'Brien\",\n",
       " ' Anastasia Ashley',\n",
       " ' Lakey Peterson',\n",
       " ' Sage Erickson',\n",
       " ' Laird Hamilton',\n",
       " ' Nathan Florence',\n",
       " ' Mason Ho',\n",
       " ' Jackson Dorian',\n",
       " ' Conner Coffin',\n",
       " ' Quincy Davis',\n",
       " ' Courtney Conlogue',\n",
       " ' Caroline Marks',\n",
       " ' Parker Coffin',\n",
       " ' Brett Simpson',\n",
       " ' Kassia',\n",
       " ' Jett Schilling',\n",
       " ' Ryan Craig',\n",
       " ' Kirra Pinkerton',\n",
       " ' Zoe Benedetto',\n",
       " ' Nathan Baker',\n",
       " ' Cruz Dinofa']"
      ]
     },
     "execution_count": 6,
     "metadata": {},
     "output_type": "execute_result"
    }
   ],
   "source": [
    "s_influencer_name = []\n",
    "for e in tabla:\n",
    "    s_influencer_name.append(e.text.split('.')[1:])\n",
    "s_influencer_name\n",
    "surfer_name = []\n",
    "for sublist in s_influencer_name:\n",
    "    for e in sublist:\n",
    "        surfer_name.append(e)\n",
    "surfer_name\n"
   ]
  },
  {
   "attachments": {},
   "cell_type": "markdown",
   "metadata": {},
   "source": [
    "### Bucle para instagram"
   ]
  },
  {
   "cell_type": "code",
   "execution_count": 7,
   "metadata": {},
   "outputs": [
    {
     "data": {
      "text/plain": [
       "25"
      ]
     },
     "execution_count": 7,
     "metadata": {},
     "output_type": "execute_result"
    }
   ],
   "source": [
    "\n",
    "tabla = driver.find_elements(By.CSS_SELECTOR,\"#fsb p a\" )\n",
    "ig_account = []\n",
    "for e in tabla:\n",
    "    ig_account.append(e.text)\n",
    "ig_account\n",
    "#Tengo que filtrar la lista para que me aparezcan solo los elementos que tienen un @\n",
    "instagram = []\n",
    "for e in ig_account:\n",
    "    if '@' in e:\n",
    "        instagram.append(e)\n",
    "    else:\n",
    "        pass\n",
    "len(instagram)"
   ]
  },
  {
   "cell_type": "code",
   "execution_count": 10,
   "metadata": {},
   "outputs": [
    {
     "data": {
      "text/html": [
       "<div>\n",
       "<style scoped>\n",
       "    .dataframe tbody tr th:only-of-type {\n",
       "        vertical-align: middle;\n",
       "    }\n",
       "\n",
       "    .dataframe tbody tr th {\n",
       "        vertical-align: top;\n",
       "    }\n",
       "\n",
       "    .dataframe thead th {\n",
       "        text-align: right;\n",
       "    }\n",
       "</style>\n",
       "<table border=\"1\" class=\"dataframe\">\n",
       "  <thead>\n",
       "    <tr style=\"text-align: right;\">\n",
       "      <th></th>\n",
       "      <th>athlete_name</th>\n",
       "      <th>instagram_account</th>\n",
       "    </tr>\n",
       "  </thead>\n",
       "  <tbody>\n",
       "    <tr>\n",
       "      <th>0</th>\n",
       "      <td>Kelly Slater</td>\n",
       "      <td>@kellyslater</td>\n",
       "    </tr>\n",
       "    <tr>\n",
       "      <th>1</th>\n",
       "      <td>Bethany Hamilton</td>\n",
       "      <td>@bethanyhamilton</td>\n",
       "    </tr>\n",
       "    <tr>\n",
       "      <th>2</th>\n",
       "      <td>Alana Blanchard</td>\n",
       "      <td>@alanarblanchard</td>\n",
       "    </tr>\n",
       "    <tr>\n",
       "      <th>3</th>\n",
       "      <td>John john Florence</td>\n",
       "      <td>@john_john_florence</td>\n",
       "    </tr>\n",
       "    <tr>\n",
       "      <th>4</th>\n",
       "      <td>Jamie O'Brien</td>\n",
       "      <td>@whoisjob</td>\n",
       "    </tr>\n",
       "    <tr>\n",
       "      <th>5</th>\n",
       "      <td>Anastasia Ashley</td>\n",
       "      <td>@anastasiaashley</td>\n",
       "    </tr>\n",
       "    <tr>\n",
       "      <th>6</th>\n",
       "      <td>Lakey Peterson</td>\n",
       "      <td>@lakeypeterson</td>\n",
       "    </tr>\n",
       "    <tr>\n",
       "      <th>7</th>\n",
       "      <td>Sage Erickson</td>\n",
       "      <td>@sageerickson</td>\n",
       "    </tr>\n",
       "    <tr>\n",
       "      <th>8</th>\n",
       "      <td>Laird Hamilton</td>\n",
       "      <td>@lairdhamiltonsurf</td>\n",
       "    </tr>\n",
       "    <tr>\n",
       "      <th>9</th>\n",
       "      <td>Nathan Florence</td>\n",
       "      <td>@nathan_florence</td>\n",
       "    </tr>\n",
       "    <tr>\n",
       "      <th>10</th>\n",
       "      <td>Mason Ho</td>\n",
       "      <td>@cocom4debarrelkilla</td>\n",
       "    </tr>\n",
       "    <tr>\n",
       "      <th>11</th>\n",
       "      <td>Jackson Dorian</td>\n",
       "      <td>@jackson_dorian</td>\n",
       "    </tr>\n",
       "    <tr>\n",
       "      <th>12</th>\n",
       "      <td>Conner Coffin</td>\n",
       "      <td>@connercoffin</td>\n",
       "    </tr>\n",
       "    <tr>\n",
       "      <th>13</th>\n",
       "      <td>Quincy Davis</td>\n",
       "      <td>@quincydavis</td>\n",
       "    </tr>\n",
       "    <tr>\n",
       "      <th>14</th>\n",
       "      <td>Courtney Conlogue</td>\n",
       "      <td>@courtneyconlogue</td>\n",
       "    </tr>\n",
       "    <tr>\n",
       "      <th>15</th>\n",
       "      <td>Caroline Marks</td>\n",
       "      <td>@caroline_markss</td>\n",
       "    </tr>\n",
       "    <tr>\n",
       "      <th>16</th>\n",
       "      <td>Parker Coffin</td>\n",
       "      <td>@parkercoffin</td>\n",
       "    </tr>\n",
       "    <tr>\n",
       "      <th>17</th>\n",
       "      <td>Brett Simpson</td>\n",
       "      <td>@brettsimpson</td>\n",
       "    </tr>\n",
       "    <tr>\n",
       "      <th>18</th>\n",
       "      <td>Kassia</td>\n",
       "      <td>@kassiasurf</td>\n",
       "    </tr>\n",
       "    <tr>\n",
       "      <th>19</th>\n",
       "      <td>Jett Schilling</td>\n",
       "      <td>@jettschilling</td>\n",
       "    </tr>\n",
       "    <tr>\n",
       "      <th>20</th>\n",
       "      <td>Ryan Craig</td>\n",
       "      <td>@chachfiles</td>\n",
       "    </tr>\n",
       "    <tr>\n",
       "      <th>21</th>\n",
       "      <td>Kirra Pinkerton</td>\n",
       "      <td>@kirrapink</td>\n",
       "    </tr>\n",
       "    <tr>\n",
       "      <th>22</th>\n",
       "      <td>Zoe Benedetto</td>\n",
       "      <td>@zoe_benedetto</td>\n",
       "    </tr>\n",
       "    <tr>\n",
       "      <th>23</th>\n",
       "      <td>Nathan Baker</td>\n",
       "      <td>@evo_n8</td>\n",
       "    </tr>\n",
       "    <tr>\n",
       "      <th>24</th>\n",
       "      <td>Cruz Dinofa</td>\n",
       "      <td>@cruzdinofa</td>\n",
       "    </tr>\n",
       "  </tbody>\n",
       "</table>\n",
       "</div>"
      ],
      "text/plain": [
       "           athlete_name     instagram_account\n",
       "0          Kelly Slater          @kellyslater\n",
       "1      Bethany Hamilton      @bethanyhamilton\n",
       "2       Alana Blanchard      @alanarblanchard\n",
       "3    John john Florence   @john_john_florence\n",
       "4         Jamie O'Brien             @whoisjob\n",
       "5      Anastasia Ashley      @anastasiaashley\n",
       "6        Lakey Peterson        @lakeypeterson\n",
       "7         Sage Erickson         @sageerickson\n",
       "8        Laird Hamilton    @lairdhamiltonsurf\n",
       "9       Nathan Florence      @nathan_florence\n",
       "10             Mason Ho  @cocom4debarrelkilla\n",
       "11       Jackson Dorian       @jackson_dorian\n",
       "12        Conner Coffin         @connercoffin\n",
       "13         Quincy Davis          @quincydavis\n",
       "14    Courtney Conlogue     @courtneyconlogue\n",
       "15       Caroline Marks      @caroline_markss\n",
       "16        Parker Coffin         @parkercoffin\n",
       "17        Brett Simpson         @brettsimpson\n",
       "18               Kassia           @kassiasurf\n",
       "19       Jett Schilling        @jettschilling\n",
       "20           Ryan Craig           @chachfiles\n",
       "21      Kirra Pinkerton            @kirrapink\n",
       "22        Zoe Benedetto        @zoe_benedetto\n",
       "23         Nathan Baker               @evo_n8\n",
       "24          Cruz Dinofa           @cruzdinofa"
      ]
     },
     "execution_count": 10,
     "metadata": {},
     "output_type": "execute_result"
    }
   ],
   "source": [
    "df_surfers_ig = pd.DataFrame({'athlete_name': surfer_name, 'instagram_account': instagram})\n",
    "df_surfers_ig"
   ]
  },
  {
   "cell_type": "code",
   "execution_count": null,
   "metadata": {},
   "outputs": [],
   "source": []
  },
  {
   "cell_type": "code",
   "execution_count": 11,
   "metadata": {},
   "outputs": [],
   "source": [
    "#df_surfers_ig.to_csv(r'C:\\Users\\Lorenzo\\Desktop\\IRONHACK REPOSITORIES\\-w4-project_ETL\\csvs_limpios\\\\df_surfers_ig.csv', index = False)"
   ]
  }
 ],
 "metadata": {
  "kernelspec": {
   "display_name": "base",
   "language": "python",
   "name": "python3"
  },
  "language_info": {
   "codemirror_mode": {
    "name": "ipython",
    "version": 3
   },
   "file_extension": ".py",
   "mimetype": "text/x-python",
   "name": "python",
   "nbconvert_exporter": "python",
   "pygments_lexer": "ipython3",
   "version": "3.9.13"
  },
  "orig_nbformat": 4
 },
 "nbformat": 4,
 "nbformat_minor": 2
}
