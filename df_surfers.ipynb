{
 "cells": [
  {
   "cell_type": "code",
   "execution_count": 1,
   "metadata": {},
   "outputs": [],
   "source": [
    "import pandas as pd\n",
    "from selenium import webdriver\n",
    "from selenium.webdriver.chrome.options import Options\n",
    "from webdriver_manager.chrome import ChromeDriverManager\n",
    "from selenium.webdriver.common.by import By\n",
    "from selenium.webdriver.common.keys import Keys\n",
    "from selenium.common.exceptions import WebDriverException\n",
    "import time"
   ]
  },
  {
   "cell_type": "code",
   "execution_count": 2,
   "metadata": {},
   "outputs": [
    {
     "name": "stderr",
     "output_type": "stream",
     "text": [
      "C:\\Users\\Lorenzo\\AppData\\Local\\Temp\\ipykernel_6256\\4076755805.py:6: DeprecationWarning: headless property is deprecated, instead use add_argument('--headless') or add_argument('--headless=new')\n",
      "  opciones.headless=False    # si True, no aperece la ventana (headless=no visible)\n"
     ]
    }
   ],
   "source": [
    "#driver configuration\n",
    "opciones=Options()\n",
    "\n",
    "opciones.add_experimental_option('excludeSwitches', ['enable-automation'])\n",
    "opciones.add_experimental_option('useAutomationExtension', False)\n",
    "opciones.headless=False    # si True, no aperece la ventana (headless=no visible)\n",
    "opciones.add_argument('--start-maximized')         # comienza maximizado\n",
    "#opciones.add_argument('user-data-dir=selenium')    # mantiene las cookies\n",
    "#opciones.add_extension('driver_folder/adblock.crx')       # adblocker\n",
    "opciones.add_argument('--incognito')"
   ]
  },
  {
   "cell_type": "code",
   "execution_count": 3,
   "metadata": {},
   "outputs": [
    {
     "name": "stderr",
     "output_type": "stream",
     "text": [
      "C:\\Users\\Lorenzo\\AppData\\Local\\Temp\\ipykernel_6256\\3969847301.py:2: DeprecationWarning: executable_path has been deprecated, please pass in a Service object\n",
      "  driver = webdriver.Chrome(PATH) #Para poder abrir una ventana en Crhome\n"
     ]
    }
   ],
   "source": [
    "PATH = ChromeDriverManager().install() #instalar driver en crhome\n",
    "driver = webdriver.Chrome(PATH) #Para poder abrir una ventana en Crhome"
   ]
  },
  {
   "attachments": {},
   "cell_type": "markdown",
   "metadata": {},
   "source": [
    "### Ciao Ibelli"
   ]
  },
  {
   "cell_type": "code",
   "execution_count": 34,
   "metadata": {},
   "outputs": [],
   "source": [
    "url_Ciao_Ibelli = 'https://www.worldsurfleague.com/athletes/1291/caio-ibelli'\n",
    "driver.get(url_Ciao_Ibelli)\n",
    "time.sleep(1)"
   ]
  },
  {
   "cell_type": "code",
   "execution_count": 35,
   "metadata": {},
   "outputs": [],
   "source": [
    "tabla = driver.find_element(By.CSS_SELECTOR, \"#primary > div > div > div.new-page-body > div > div.content-rail > div > div.new-athlete-bio-stats > ul\")\n",
    "stance = []\n",
    "stance1 = [] #Me voy a quedar con CSS porque he visto que me sirve para utilizarlo con otros surfistas.\n",
    "stance.append(tabla.find_element(By.CSS_SELECTOR, '#primary > div > div > div.new-page-body > div > div.content-rail > div > div.new-athlete-bio-stats > ul > li.first > div.value').text)\n",
    "stance1.append(tabla.find_element(By.XPATH, \"//div/div/div[2]/div/div[2]/div/div[4]/ul/li[1]/div[2]\").text)\n",
    "age = []\n",
    "age.append(tabla.find_element(By.CSS_SELECTOR, \"#primary > div > div > div.new-page-body > div > div.content-rail > div > div.new-athlete-bio-stats > ul > li:nth-child(3) > div.value > span.imperial\").text)\n",
    "height = []\n",
    "height.append(tabla.find_element(By.CSS_SELECTOR, \"#primary > div > div > div.new-page-body > div > div.content-rail > div > div.new-athlete-bio-stats > ul > li:nth-child(4) > div.value > span.metric\").text)\n",
    "weight = []\n",
    "weight.append(tabla.find_element(By.CSS_SELECTOR, \"#primary > div > div > div.new-page-body > div > div.content-rail > div > div.new-athlete-bio-stats > ul > li:nth-child(5) > div.value > span.metric\").text)"
   ]
  },
  {
   "attachments": {},
   "cell_type": "markdown",
   "metadata": {},
   "source": [
    "### Callum Robson"
   ]
  },
  {
   "cell_type": "code",
   "execution_count": 36,
   "metadata": {},
   "outputs": [],
   "source": [
    "url = 'https://www.worldsurfleague.com/athletes/9654/callum-robson'\n",
    "driver.get(url)\n",
    "time.sleep(1)"
   ]
  },
  {
   "cell_type": "code",
   "execution_count": 37,
   "metadata": {},
   "outputs": [],
   "source": [
    "tabla = driver.find_element(By.CSS_SELECTOR, \"#primary > div > div > div.new-page-body > div > div.content-rail > div > div.new-athlete-bio-stats > ul\")\n",
    "\n",
    "stance.append(tabla.find_element(By.CSS_SELECTOR, '#primary > div > div > div.new-page-body > div > div.content-rail > div > div.new-athlete-bio-stats > ul > li.first > div.value').text)\n",
    "age.append(tabla.find_element(By.CSS_SELECTOR, \"#primary > div > div > div.new-page-body > div > div.content-rail > div > div.new-athlete-bio-stats > ul > li:nth-child(3) > div.value > span.imperial\").text)\n",
    "height.append(tabla.find_element(By.CSS_SELECTOR, \"#primary > div > div > div.new-page-body > div > div.content-rail > div > div.new-athlete-bio-stats > ul > li:nth-child(4) > div.value > span.metric\").text)\n",
    "weight.append(tabla.find_element(By.CSS_SELECTOR, \"#primary > div > div > div.new-page-body > div > div.content-rail > div > div.new-athlete-bio-stats > ul > li:nth-child(5) > div.value > span.metric\").text)\n"
   ]
  },
  {
   "attachments": {},
   "cell_type": "markdown",
   "metadata": {},
   "source": [
    "### Ethan Ewing"
   ]
  },
  {
   "cell_type": "code",
   "execution_count": 39,
   "metadata": {},
   "outputs": [],
   "source": [
    "url = 'https://www.worldsurfleague.com/athletes/4133/ethan-ewing'\n",
    "driver.get(url)\n",
    "time.sleep(1)"
   ]
  },
  {
   "cell_type": "code",
   "execution_count": 40,
   "metadata": {},
   "outputs": [],
   "source": [
    "tabla = driver.find_element(By.CSS_SELECTOR, \"#primary > div > div > div.new-page-body > div > div.content-rail > div > div.new-athlete-bio-stats > ul\")\n",
    "\n",
    "stance.append(tabla.find_element(By.CSS_SELECTOR, '#primary > div > div > div.new-page-body > div > div.content-rail > div > div.new-athlete-bio-stats > ul > li.first > div.value').text)\n",
    "age.append(tabla.find_element(By.CSS_SELECTOR, \"#primary > div > div > div.new-page-body > div > div.content-rail > div > div.new-athlete-bio-stats > ul > li:nth-child(3) > div.value > span.imperial\").text)\n",
    "height.append(tabla.find_element(By.CSS_SELECTOR, \"#primary > div > div > div.new-page-body > div > div.content-rail > div > div.new-athlete-bio-stats > ul > li:nth-child(4) > div.value > span.metric\").text)\n",
    "weight.append(tabla.find_element(By.CSS_SELECTOR, \"#primary > div > div > div.new-page-body > div > div.content-rail > div > div.new-athlete-bio-stats > ul > li:nth-child(5) > div.value > span.metric\").text)"
   ]
  },
  {
   "attachments": {},
   "cell_type": "markdown",
   "metadata": {},
   "source": [
    "### Filipe Toledo"
   ]
  },
  {
   "cell_type": "code",
   "execution_count": 42,
   "metadata": {},
   "outputs": [],
   "source": [
    "url = 'https://www.worldsurfleague.com/athletes/1456/filipe-toledo'\n",
    "driver.get(url)\n",
    "time.sleep(1)"
   ]
  },
  {
   "cell_type": "code",
   "execution_count": 43,
   "metadata": {},
   "outputs": [],
   "source": [
    "tabla = driver.find_element(By.CSS_SELECTOR, \"#primary > div > div > div.new-page-body > div > div.content-rail > div > div.new-athlete-bio-stats > ul\")\n",
    "\n",
    "stance.append(tabla.find_element(By.CSS_SELECTOR, '#primary > div > div > div.new-page-body > div > div.content-rail > div > div.new-athlete-bio-stats > ul > li.first > div.value').text)\n",
    "age.append(tabla.find_element(By.CSS_SELECTOR, \"#primary > div > div > div.new-page-body > div > div.content-rail > div > div.new-athlete-bio-stats > ul > li:nth-child(3) > div.value > span.imperial\").text)\n",
    "height.append(tabla.find_element(By.CSS_SELECTOR, \"#primary > div > div > div.new-page-body > div > div.content-rail > div > div.new-athlete-bio-stats > ul > li:nth-child(4) > div.value > span.metric\").text)\n",
    "weight.append(tabla.find_element(By.CSS_SELECTOR, \"#primary > div > div > div.new-page-body > div > div.content-rail > div > div.new-athlete-bio-stats > ul > li:nth-child(5) > div.value > span.metric\").text)"
   ]
  },
  {
   "attachments": {},
   "cell_type": "markdown",
   "metadata": {},
   "source": [
    "### Griffin Colapinto"
   ]
  },
  {
   "cell_type": "code",
   "execution_count": 45,
   "metadata": {},
   "outputs": [],
   "source": [
    "url = 'https://www.worldsurfleague.com/athletes/3165/griffin-colapinto'\n",
    "driver.get(url)\n",
    "time.sleep(1)"
   ]
  },
  {
   "cell_type": "code",
   "execution_count": 46,
   "metadata": {},
   "outputs": [],
   "source": [
    "tabla = driver.find_element(By.CSS_SELECTOR, \"#primary > div > div > div.new-page-body > div > div.content-rail > div > div.new-athlete-bio-stats > ul\")\n",
    "\n",
    "stance.append(tabla.find_element(By.CSS_SELECTOR, '#primary > div > div > div.new-page-body > div > div.content-rail > div > div.new-athlete-bio-stats > ul > li.first > div.value').text)\n",
    "age.append(tabla.find_element(By.CSS_SELECTOR, \"#primary > div > div > div.new-page-body > div > div.content-rail > div > div.new-athlete-bio-stats > ul > li:nth-child(3) > div.value > span.imperial\").text)\n",
    "height.append(tabla.find_element(By.CSS_SELECTOR, \"#primary > div > div > div.new-page-body > div > div.content-rail > div > div.new-athlete-bio-stats > ul > li:nth-child(4) > div.value > span.metric\").text)\n",
    "weight.append(tabla.find_element(By.CSS_SELECTOR, \"#primary > div > div > div.new-page-body > div > div.content-rail > div > div.new-athlete-bio-stats > ul > li:nth-child(5) > div.value > span.metric\").text)"
   ]
  },
  {
   "attachments": {},
   "cell_type": "markdown",
   "metadata": {},
   "source": [
    "### Italo Ferreira"
   ]
  },
  {
   "cell_type": "code",
   "execution_count": 48,
   "metadata": {},
   "outputs": [],
   "source": [
    "url = 'https://www.worldsurfleague.com/athletes/1737/italo-ferreira'\n",
    "driver.get(url)\n",
    "time.sleep(1)"
   ]
  },
  {
   "cell_type": "code",
   "execution_count": 49,
   "metadata": {},
   "outputs": [],
   "source": [
    "tabla = driver.find_element(By.CSS_SELECTOR, \"#primary > div > div > div.new-page-body > div > div.content-rail > div > div.new-athlete-bio-stats > ul\")\n",
    "\n",
    "stance.append(tabla.find_element(By.CSS_SELECTOR, '#primary > div > div > div.new-page-body > div > div.content-rail > div > div.new-athlete-bio-stats > ul > li.first > div.value').text)\n",
    "age.append(tabla.find_element(By.CSS_SELECTOR, \"#primary > div > div > div.new-page-body > div > div.content-rail > div > div.new-athlete-bio-stats > ul > li:nth-child(3) > div.value > span.imperial\").text)\n",
    "height.append(tabla.find_element(By.CSS_SELECTOR, \"#primary > div > div > div.new-page-body > div > div.content-rail > div > div.new-athlete-bio-stats > ul > li:nth-child(4) > div.value > span.metric\").text)\n",
    "weight.append(tabla.find_element(By.CSS_SELECTOR, \"#primary > div > div > div.new-page-body > div > div.content-rail > div > div.new-athlete-bio-stats > ul > li:nth-child(5) > div.value > span.metric\").text)"
   ]
  },
  {
   "attachments": {},
   "cell_type": "markdown",
   "metadata": {},
   "source": [
    "### Jack Robinson"
   ]
  },
  {
   "cell_type": "code",
   "execution_count": 51,
   "metadata": {},
   "outputs": [],
   "source": [
    "url = 'https://www.worldsurfleague.com/athletes/3442/jack-robinson'\n",
    "driver.get(url)\n",
    "time.sleep(1)"
   ]
  },
  {
   "cell_type": "code",
   "execution_count": 52,
   "metadata": {},
   "outputs": [],
   "source": [
    "tabla = driver.find_element(By.CSS_SELECTOR, \"#primary > div > div > div.new-page-body > div > div.content-rail > div > div.new-athlete-bio-stats > ul\")\n",
    "\n",
    "stance.append(tabla.find_element(By.CSS_SELECTOR, '#primary > div > div > div.new-page-body > div > div.content-rail > div > div.new-athlete-bio-stats > ul > li.first > div.value').text)\n",
    "age.append(tabla.find_element(By.CSS_SELECTOR, \"#primary > div > div > div.new-page-body > div > div.content-rail > div > div.new-athlete-bio-stats > ul > li:nth-child(3) > div.value > span.imperial\").text)\n",
    "height.append(tabla.find_element(By.CSS_SELECTOR, \"#primary > div > div > div.new-page-body > div > div.content-rail > div > div.new-athlete-bio-stats > ul > li:nth-child(4) > div.value > span.metric\").text)\n",
    "weight.append(tabla.find_element(By.CSS_SELECTOR, \"#primary > div > div > div.new-page-body > div > div.content-rail > div > div.new-athlete-bio-stats > ul > li:nth-child(5) > div.value > span.metric\").text)"
   ]
  },
  {
   "attachments": {},
   "cell_type": "markdown",
   "metadata": {},
   "source": [
    "### Jonh Jonh Florence"
   ]
  },
  {
   "cell_type": "code",
   "execution_count": 54,
   "metadata": {},
   "outputs": [],
   "source": [
    "url = 'https://www.worldsurfleague.com/athletes/199/john-john-florence'\n",
    "driver.get(url)\n",
    "time.sleep(1)"
   ]
  },
  {
   "cell_type": "code",
   "execution_count": 55,
   "metadata": {},
   "outputs": [],
   "source": [
    "tabla = driver.find_element(By.CSS_SELECTOR, \"#primary > div > div > div.new-page-body > div > div.content-rail > div > div.new-athlete-bio-stats > ul\")\n",
    "\n",
    "stance.append(tabla.find_element(By.CSS_SELECTOR, '#primary > div > div > div.new-page-body > div > div.content-rail > div > div.new-athlete-bio-stats > ul > li.first > div.value').text)\n",
    "age.append(tabla.find_element(By.CSS_SELECTOR, \"#primary > div > div > div.new-page-body > div > div.content-rail > div > div.new-athlete-bio-stats > ul > li:nth-child(3) > div.value > span.imperial\").text)\n",
    "height.append(tabla.find_element(By.CSS_SELECTOR, \"#primary > div > div > div.new-page-body > div > div.content-rail > div > div.new-athlete-bio-stats > ul > li:nth-child(4) > div.value > span.metric\").text)\n",
    "weight.append(tabla.find_element(By.CSS_SELECTOR, \"#primary > div > div > div.new-page-body > div > div.content-rail > div > div.new-athlete-bio-stats > ul > li:nth-child(5) > div.value > span.metric\").text)"
   ]
  },
  {
   "attachments": {},
   "cell_type": "markdown",
   "metadata": {},
   "source": [
    "### Jordi Smith"
   ]
  },
  {
   "cell_type": "code",
   "execution_count": 57,
   "metadata": {},
   "outputs": [],
   "source": [
    "url = 'https://www.worldsurfleague.com/athletes/564/jordy-smith'\n",
    "driver.get(url)\n",
    "time.sleep(1)"
   ]
  },
  {
   "cell_type": "code",
   "execution_count": 58,
   "metadata": {},
   "outputs": [],
   "source": [
    "tabla = driver.find_element(By.CSS_SELECTOR, \"#primary > div > div > div.new-page-body > div > div.content-rail > div > div.new-athlete-bio-stats > ul\")\n",
    "\n",
    "stance.append(tabla.find_element(By.CSS_SELECTOR, '#primary > div > div > div.new-page-body > div > div.content-rail > div > div.new-athlete-bio-stats > ul > li.first > div.value').text)\n",
    "age.append(tabla.find_element(By.CSS_SELECTOR, \"#primary > div > div > div.new-page-body > div > div.content-rail > div > div.new-athlete-bio-stats > ul > li:nth-child(3) > div.value > span.imperial\").text)\n",
    "height.append(tabla.find_element(By.CSS_SELECTOR, \"#primary > div > div > div.new-page-body > div > div.content-rail > div > div.new-athlete-bio-stats > ul > li:nth-child(4) > div.value > span.metric\").text)\n",
    "weight.append(tabla.find_element(By.CSS_SELECTOR, \"#primary > div > div > div.new-page-body > div > div.content-rail > div > div.new-athlete-bio-stats > ul > li:nth-child(5) > div.value > span.metric\").text)"
   ]
  },
  {
   "attachments": {},
   "cell_type": "markdown",
   "metadata": {},
   "source": [
    "### Kanoa Igarashi"
   ]
  },
  {
   "cell_type": "code",
   "execution_count": 60,
   "metadata": {},
   "outputs": [],
   "source": [
    "url = 'https://www.worldsurfleague.com/athletes/3896/kanoa-igarashi'\n",
    "driver.get(url)\n",
    "time.sleep(1)"
   ]
  },
  {
   "cell_type": "code",
   "execution_count": 61,
   "metadata": {},
   "outputs": [],
   "source": [
    "tabla = driver.find_element(By.CSS_SELECTOR, \"#primary > div > div > div.new-page-body > div > div.content-rail > div > div.new-athlete-bio-stats > ul\")\n",
    "\n",
    "stance.append(tabla.find_element(By.CSS_SELECTOR, '#primary > div > div > div.new-page-body > div > div.content-rail > div > div.new-athlete-bio-stats > ul > li.first > div.value').text)\n",
    "age.append(tabla.find_element(By.CSS_SELECTOR, \"#primary > div > div > div.new-page-body > div > div.content-rail > div > div.new-athlete-bio-stats > ul > li:nth-child(3) > div.value > span.imperial\").text)\n",
    "height.append(tabla.find_element(By.CSS_SELECTOR, \"#primary > div > div > div.new-page-body > div > div.content-rail > div > div.new-athlete-bio-stats > ul > li:nth-child(4) > div.value > span.metric\").text)\n",
    "weight.append(tabla.find_element(By.CSS_SELECTOR, \"#primary > div > div > div.new-page-body > div > div.content-rail > div > div.new-athlete-bio-stats > ul > li:nth-child(5) > div.value > span.metric\").text)"
   ]
  },
  {
   "attachments": {},
   "cell_type": "markdown",
   "metadata": {},
   "source": [
    "### Kelly Slater"
   ]
  },
  {
   "cell_type": "code",
   "execution_count": 63,
   "metadata": {},
   "outputs": [],
   "source": [
    "url = 'https://www.worldsurfleague.com/athletes/553/kelly-slater'\n",
    "driver.get(url)\n",
    "time.sleep(1)"
   ]
  },
  {
   "cell_type": "code",
   "execution_count": 64,
   "metadata": {},
   "outputs": [],
   "source": [
    "tabla = driver.find_element(By.CSS_SELECTOR, \"#primary > div > div > div.new-page-body > div > div.content-rail > div > div.new-athlete-bio-stats > ul\")\n",
    "\n",
    "stance.append(tabla.find_element(By.CSS_SELECTOR, '#primary > div > div > div.new-page-body > div > div.content-rail > div > div.new-athlete-bio-stats > ul > li.first > div.value').text)\n",
    "age.append(tabla.find_element(By.CSS_SELECTOR, \"#primary > div > div > div.new-page-body > div > div.content-rail > div > div.new-athlete-bio-stats > ul > li:nth-child(3) > div.value > span.imperial\").text)\n",
    "height.append(tabla.find_element(By.CSS_SELECTOR, \"#primary > div > div > div.new-page-body > div > div.content-rail > div > div.new-athlete-bio-stats > ul > li:nth-child(4) > div.value > span.metric\").text)\n",
    "weight.append(tabla.find_element(By.CSS_SELECTOR, \"#primary > div > div > div.new-page-body > div > div.content-rail > div > div.new-athlete-bio-stats > ul > li:nth-child(5) > div.value > span.metric\").text)"
   ]
  },
  {
   "cell_type": "code",
   "execution_count": 66,
   "metadata": {},
   "outputs": [
    {
     "data": {
      "text/html": [
       "<div>\n",
       "<style scoped>\n",
       "    .dataframe tbody tr th:only-of-type {\n",
       "        vertical-align: middle;\n",
       "    }\n",
       "\n",
       "    .dataframe tbody tr th {\n",
       "        vertical-align: top;\n",
       "    }\n",
       "\n",
       "    .dataframe thead th {\n",
       "        text-align: right;\n",
       "    }\n",
       "</style>\n",
       "<table border=\"1\" class=\"dataframe\">\n",
       "  <thead>\n",
       "    <tr style=\"text-align: right;\">\n",
       "      <th></th>\n",
       "      <th>athlete_name</th>\n",
       "      <th>Stance</th>\n",
       "      <th>Age</th>\n",
       "      <th>Height</th>\n",
       "      <th>Weight</th>\n",
       "    </tr>\n",
       "  </thead>\n",
       "  <tbody>\n",
       "    <tr>\n",
       "      <th>0</th>\n",
       "      <td>Caio Ibelli</td>\n",
       "      <td>Regular</td>\n",
       "      <td>29</td>\n",
       "      <td>167 cm</td>\n",
       "      <td>72 kg</td>\n",
       "    </tr>\n",
       "    <tr>\n",
       "      <th>1</th>\n",
       "      <td>Callum Robson</td>\n",
       "      <td>Regular</td>\n",
       "      <td>22</td>\n",
       "      <td>178 cm</td>\n",
       "      <td>79 kg</td>\n",
       "    </tr>\n",
       "    <tr>\n",
       "      <th>2</th>\n",
       "      <td>Ethan Ewing</td>\n",
       "      <td>Regular</td>\n",
       "      <td>24</td>\n",
       "      <td>178 cm</td>\n",
       "      <td>77 kg</td>\n",
       "    </tr>\n",
       "    <tr>\n",
       "      <th>3</th>\n",
       "      <td>Filipe Toledo</td>\n",
       "      <td>Regular</td>\n",
       "      <td>28</td>\n",
       "      <td>175 cm</td>\n",
       "      <td>70 kg</td>\n",
       "    </tr>\n",
       "    <tr>\n",
       "      <th>4</th>\n",
       "      <td>Griffin Colapinto</td>\n",
       "      <td>Regular</td>\n",
       "      <td>24</td>\n",
       "      <td>178 cm</td>\n",
       "      <td>78 kg</td>\n",
       "    </tr>\n",
       "    <tr>\n",
       "      <th>5</th>\n",
       "      <td>Italo Ferreira</td>\n",
       "      <td>Goofy</td>\n",
       "      <td>29</td>\n",
       "      <td>168 cm</td>\n",
       "      <td>68 kg</td>\n",
       "    </tr>\n",
       "    <tr>\n",
       "      <th>6</th>\n",
       "      <td>Jack Robinson</td>\n",
       "      <td>Regular</td>\n",
       "      <td>25</td>\n",
       "      <td>180 cm</td>\n",
       "      <td>81 kg</td>\n",
       "    </tr>\n",
       "    <tr>\n",
       "      <th>7</th>\n",
       "      <td>Jonh Jonh Florence</td>\n",
       "      <td>Regular</td>\n",
       "      <td>30</td>\n",
       "      <td>186 cm</td>\n",
       "      <td>79 kg</td>\n",
       "    </tr>\n",
       "    <tr>\n",
       "      <th>8</th>\n",
       "      <td>Jordy Smith</td>\n",
       "      <td>Regular</td>\n",
       "      <td>35</td>\n",
       "      <td>190 cm</td>\n",
       "      <td>88 kg</td>\n",
       "    </tr>\n",
       "    <tr>\n",
       "      <th>9</th>\n",
       "      <td>Kanoa Igarashi</td>\n",
       "      <td>Regular</td>\n",
       "      <td>25</td>\n",
       "      <td>180 cm</td>\n",
       "      <td>78 kg</td>\n",
       "    </tr>\n",
       "    <tr>\n",
       "      <th>10</th>\n",
       "      <td>Kelly Slater</td>\n",
       "      <td>Regular</td>\n",
       "      <td>51</td>\n",
       "      <td>175 cm</td>\n",
       "      <td>73 kg</td>\n",
       "    </tr>\n",
       "  </tbody>\n",
       "</table>\n",
       "</div>"
      ],
      "text/plain": [
       "          athlete_name   Stance Age  Height Weight\n",
       "0          Caio Ibelli  Regular  29  167 cm  72 kg\n",
       "1        Callum Robson  Regular  22  178 cm  79 kg\n",
       "2          Ethan Ewing  Regular  24  178 cm  77 kg\n",
       "3        Filipe Toledo  Regular  28  175 cm  70 kg\n",
       "4    Griffin Colapinto  Regular  24  178 cm  78 kg\n",
       "5       Italo Ferreira    Goofy  29  168 cm  68 kg\n",
       "6        Jack Robinson  Regular  25  180 cm  81 kg\n",
       "7   Jonh Jonh Florence  Regular  30  186 cm  79 kg\n",
       "8          Jordy Smith  Regular  35  190 cm  88 kg\n",
       "9       Kanoa Igarashi  Regular  25  180 cm  78 kg\n",
       "10        Kelly Slater  Regular  51  175 cm  73 kg"
      ]
     },
     "execution_count": 66,
     "metadata": {},
     "output_type": "execute_result"
    }
   ],
   "source": [
    "athlete_name = [\"Caio Ibelli\", \"Callum Robson\", \"Ethan Ewing\", \"Filipe Toledo\", \"Griffin Colapinto\", \"Italo Ferreira\", \"Jack Robinson\", \"Jonh Jonh Florence\", \"Jordy Smith\", \"Kanoa Igarashi\", \"Kelly Slater\"]\n",
    "df_surfers = pd.DataFrame({'athlete_name': athlete_name, 'Stance': stance, 'Age': age, 'Height': height, 'Weight': weight})\n",
    "df_surfers # Ya tengo mi segunda fuente(wsl web) y segundo metodo(scrap selenium)"
   ]
  },
  {
   "cell_type": "code",
   "execution_count": 6,
   "metadata": {},
   "outputs": [],
   "source": [
    "# url_most_followed_pro_surfers = 'https://blog.feedspot.com/surfing_instagram_influencers/' #tercera fuente "
   ]
  }
 ],
 "metadata": {
  "language_info": {
   "name": "python"
  },
  "orig_nbformat": 4
 },
 "nbformat": 4,
 "nbformat_minor": 2
}
